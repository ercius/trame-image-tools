{
 "cells": [
  {
   "cell_type": "code",
   "execution_count": 1,
   "id": "51f43547-eb09-4690-9418-a7b9855fd87d",
   "metadata": {},
   "outputs": [],
   "source": [
    "from demo import ExampleApp\n",
    "\n",
    "app = ExampleApp()"
   ]
  },
  {
   "cell_type": "code",
   "execution_count": 2,
   "id": "aca1b17b-adad-49da-b3ee-a4aa5b58401e",
   "metadata": {},
   "outputs": [
    {
     "data": {
      "text/html": [
       "<iframe id=\"trame_trame__template_main\" src=\"http://localhost:62063/index.html?ui=main&reconnect=auto\" style=\"border: none; width: 100%; height: 600px;\"></iframe>"
      ]
     },
     "metadata": {},
     "output_type": "display_data"
    }
   ],
   "source": [
    "app"
   ]
  },
  {
   "cell_type": "code",
   "execution_count": null,
   "id": "ac89e148-00ae-4156-b4be-8f2982ce3edc",
   "metadata": {},
   "outputs": [],
   "source": []
  }
 ],
 "metadata": {
  "kernelspec": {
   "display_name": "Python 3 (ipykernel)",
   "language": "python",
   "name": "python3"
  },
  "language_info": {
   "codemirror_mode": {
    "name": "ipython",
    "version": 3
   },
   "file_extension": ".py",
   "mimetype": "text/x-python",
   "name": "python",
   "nbconvert_exporter": "python",
   "pygments_lexer": "ipython3",
   "version": "3.10.15"
  }
 },
 "nbformat": 4,
 "nbformat_minor": 5
}
